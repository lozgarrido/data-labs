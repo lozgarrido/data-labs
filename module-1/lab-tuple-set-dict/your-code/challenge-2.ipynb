{
 "cells": [
  {
   "cell_type": "markdown",
   "metadata": {},
   "source": [
    "## Challenge 2: Sets\n",
    "\n",
    "There are a lot to learn about Python Sets and the information presented in the lesson is limited due to its length. To learn Python Sets in depth you are strongly encouraged to review the W3Schools tutorial on [Python Sets Examples and Methods](https://www.w3schools.com/python/python_sets.asp) before you work on this lab. Some difficult questions in this lab have their solutions in the W3Schools tutorial.\n",
    "\n",
    "#### First, import the Python `random` libary"
   ]
  },
  {
   "cell_type": "code",
   "execution_count": 309,
   "metadata": {},
   "outputs": [],
   "source": [
    "import random"
   ]
  },
  {
   "cell_type": "markdown",
   "metadata": {},
   "source": [
    "#### In the cell below, create a list named `sample_list_1` with 80 random values. \n",
    "\n",
    "Requirements:\n",
    "\n",
    "* Each value is an integer falling between 0 and 100.\n",
    "* Each value in the list is unique.\n",
    "\n",
    "Print `sample_list_1` to review its values\n",
    "\n",
    "*Hint: use `random.sample` ([reference](https://docs.python.org/3/library/random.html#random.sample)).*"
   ]
  },
  {
   "cell_type": "code",
   "execution_count": 310,
   "metadata": {},
   "outputs": [
    {
     "name": "stdout",
     "output_type": "stream",
     "text": [
      "sample_list_1 = [20, 1, 36, 57, 41, 18, 65, 82, 22, 46, 24, 61, 70, 49, 71, 91, 10, 11, 30, 47, 12, 14, 60, 53, 93, 13, 96, 54, 66, 80, 59, 64, 62, 68, 89, 45, 4, 15, 87, 85, 6, 51, 3, 58, 44, 50, 99, 55, 69, 79, 37, 92, 98, 63, 48, 34, 19, 0, 97, 29, 2, 52, 39, 77, 8, 86, 67, 81, 38, 5, 9, 74, 42, 94, 17, 84, 72, 75, 88, 43]\n"
     ]
    }
   ],
   "source": [
    "sample_list_1 = random.sample(range(100),80) #Generate 80 unique random values in range(100)\n",
    "\n",
    "print(\"sample_list_1 =\", sample_list_1)"
   ]
  },
  {
   "cell_type": "markdown",
   "metadata": {},
   "source": [
    "#### Convert `sample_list_1` to a set called `set1`. Print the length of the set. Is its length still 80?"
   ]
  },
  {
   "cell_type": "code",
   "execution_count": 311,
   "metadata": {},
   "outputs": [
    {
     "name": "stdout",
     "output_type": "stream",
     "text": [
      "Lenght of set1 is 80\n"
     ]
    }
   ],
   "source": [
    "set1 = set(sample_list_1) #Create new set from list\n",
    "\n",
    "print(\"Lenght of set1 is\", len(set1))"
   ]
  },
  {
   "cell_type": "markdown",
   "metadata": {},
   "source": [
    "#### Create another list named `sample_list_2` with 80 random values.\n",
    "\n",
    "Requirements:\n",
    "\n",
    "* Each value is an integer falling between 0 and 100.\n",
    "* The values in the list don't have to be unique.\n",
    "\n",
    "*Hint: Use a FOR loop.*"
   ]
  },
  {
   "cell_type": "code",
   "execution_count": 312,
   "metadata": {},
   "outputs": [
    {
     "name": "stdout",
     "output_type": "stream",
     "text": [
      "sample_list_2 = [3, 19, 79, 48, 86, 76, 3, 42, 96, 56, 99, 84, 21, 42, 26, 49, 0, 30, 33, 89, 43, 10, 89, 70, 8, 93, 85, 82, 81, 98, 22, 79, 19, 96, 30, 37, 1, 100, 69, 83, 46, 94, 96, 48, 77, 71, 100, 41, 49, 47, 12, 94, 21, 75, 59, 42, 43, 95, 94, 72, 95, 26, 4, 91, 36, 3, 50, 1, 31, 19, 69, 22, 85, 64, 100, 78, 25, 62, 82, 23]\n"
     ]
    }
   ],
   "source": [
    "sample_list_2 = [random.randint(0, 100) for number in range(80)]\n",
    "\n",
    "print(\"sample_list_2 =\", sample_list_2)"
   ]
  },
  {
   "cell_type": "markdown",
   "metadata": {},
   "source": [
    "#### Convert `sample_list_2` to a set called `set2`. Print the length of the set. Is its length still 80?"
   ]
  },
  {
   "cell_type": "code",
   "execution_count": 313,
   "metadata": {},
   "outputs": [
    {
     "name": "stdout",
     "output_type": "stream",
     "text": [
      "Lenght of set2 is 54\n"
     ]
    }
   ],
   "source": [
    "set2 = set(sample_list_2)\n",
    "\n",
    "print(\"Lenght of set2 is\", len(set2)) #Duplicated numbers have been removed"
   ]
  },
  {
   "cell_type": "markdown",
   "metadata": {},
   "source": [
    "#### Identify the elements present in `set1` but not in `set2`. Assign the elements to a new set named `set3`."
   ]
  },
  {
   "cell_type": "code",
   "execution_count": 314,
   "metadata": {},
   "outputs": [
    {
     "name": "stdout",
     "output_type": "stream",
     "text": [
      "set3 = {2, 5, 6, 9, 11, 13, 14, 15, 17, 18, 20, 24, 29, 34, 38, 39, 44, 45, 51, 52, 53, 54, 55, 57, 58, 60, 61, 63, 65, 66, 67, 68, 74, 80, 87, 88, 92, 97}\n"
     ]
    }
   ],
   "source": [
    "set3 = set1 - set2\n",
    "\n",
    "print(\"set3 =\", set3)"
   ]
  },
  {
   "cell_type": "markdown",
   "metadata": {},
   "source": [
    "#### Identify the elements present in `set2` but not in `set1`. Assign the elements to a new set named `set4`."
   ]
  },
  {
   "cell_type": "code",
   "execution_count": 315,
   "metadata": {},
   "outputs": [
    {
     "name": "stdout",
     "output_type": "stream",
     "text": [
      "set4 = {33, 100, 76, 78, 83, 21, 23, 56, 25, 26, 95, 31}\n"
     ]
    }
   ],
   "source": [
    "set4 = set2 - set1\n",
    "\n",
    "print(\"set4 =\", set4)"
   ]
  },
  {
   "cell_type": "markdown",
   "metadata": {},
   "source": [
    "#### Now Identify the elements shared between `set1` and `set2`. Assign the elements to a new set named `set5`."
   ]
  },
  {
   "cell_type": "code",
   "execution_count": 316,
   "metadata": {},
   "outputs": [
    {
     "name": "stdout",
     "output_type": "stream",
     "text": [
      "set5 = {0, 1, 3, 4, 8, 10, 12, 19, 22, 30, 36, 37, 41, 42, 43, 46, 47, 48, 49, 50, 59, 62, 64, 69, 70, 71, 72, 75, 77, 79, 81, 82, 84, 85, 86, 89, 91, 93, 94, 96, 98, 99}\n"
     ]
    }
   ],
   "source": [
    "set5 = set1.intersection(set2)\n",
    "\n",
    "print(\"set5 =\", set5)"
   ]
  },
  {
   "cell_type": "markdown",
   "metadata": {},
   "source": [
    "#### What is the relationship among the following values:\n",
    "\n",
    "* len(set1)\n",
    "* len(set2)\n",
    "* len(set3)\n",
    "* len(set4)\n",
    "* len(set5)\n",
    "\n",
    "Use a math formular to represent that relationship. Test your formular with Python code."
   ]
  },
  {
   "cell_type": "code",
   "execution_count": 317,
   "metadata": {},
   "outputs": [
    {
     "data": {
      "text/plain": [
       "True"
      ]
     },
     "execution_count": 317,
     "metadata": {},
     "output_type": "execute_result"
    }
   ],
   "source": [
    "#set1: unique random values\n",
    "#set2: unique random values\n",
    "#set3: values in set1 but not in set2\n",
    "#set4: values in set2 but not in set1\n",
    "#set5: shared values between set1 and set2\n",
    "\n",
    "#set1 = set3 + set5\n",
    "#set2 = set4 + set5\n",
    "\n",
    "len(set1) + len(set2) == len(set3) + len(set4) + 2*len(set5)"
   ]
  },
  {
   "cell_type": "markdown",
   "metadata": {},
   "source": [
    "#### Create an empty set called `set6`."
   ]
  },
  {
   "cell_type": "code",
   "execution_count": 318,
   "metadata": {},
   "outputs": [],
   "source": [
    "set6 = set()"
   ]
  },
  {
   "cell_type": "markdown",
   "metadata": {},
   "source": [
    "#### Add `set3` and `set5` to `set6` using the Python Set `update` method."
   ]
  },
  {
   "cell_type": "code",
   "execution_count": 319,
   "metadata": {},
   "outputs": [
    {
     "name": "stdout",
     "output_type": "stream",
     "text": [
      "set6 = {0, 1, 2, 3, 4, 5, 6, 8, 9, 10, 11, 12, 13, 14, 15, 17, 18, 19, 20, 22, 24, 29, 30, 34, 36, 37, 38, 39, 41, 42, 43, 44, 45, 46, 47, 48, 49, 50, 51, 52, 53, 54, 55, 57, 58, 59, 60, 61, 62, 63, 64, 65, 66, 67, 68, 69, 70, 71, 72, 74, 75, 77, 79, 80, 81, 82, 84, 85, 86, 87, 88, 89, 91, 92, 93, 94, 96, 97, 98, 99}\n"
     ]
    }
   ],
   "source": [
    "set6.update(set3, set5)\n",
    "\n",
    "print(\"set6 =\", set6)"
   ]
  },
  {
   "cell_type": "markdown",
   "metadata": {},
   "source": [
    "#### Check if `set1` and `set6` are equal."
   ]
  },
  {
   "cell_type": "code",
   "execution_count": 320,
   "metadata": {},
   "outputs": [
    {
     "data": {
      "text/plain": [
       "True"
      ]
     },
     "execution_count": 320,
     "metadata": {},
     "output_type": "execute_result"
    }
   ],
   "source": [
    "set1 == set6"
   ]
  },
  {
   "cell_type": "markdown",
   "metadata": {},
   "source": [
    "#### Check if `set1` contains `set2` using the Python Set `issubset` method. Then check if `set1` contains `set3`.*"
   ]
  },
  {
   "cell_type": "code",
   "execution_count": 321,
   "metadata": {},
   "outputs": [
    {
     "name": "stdout",
     "output_type": "stream",
     "text": [
      "set1 contains set2: False\n",
      "set1 contains set3: True\n"
     ]
    }
   ],
   "source": [
    "print(\"set1 contains set2:\", set2.issubset(set1))\n",
    "print(\"set1 contains set3:\", set3.issubset(set1))"
   ]
  },
  {
   "cell_type": "markdown",
   "metadata": {},
   "source": [
    "#### Using the Python Set `union` method, aggregate `set3`, `set4`, and `set5`. Then aggregate `set1` and `set2`. \n",
    "\n",
    "#### Check if the aggregated values are equal."
   ]
  },
  {
   "cell_type": "code",
   "execution_count": 322,
   "metadata": {},
   "outputs": [
    {
     "name": "stdout",
     "output_type": "stream",
     "text": [
      "True\n"
     ]
    }
   ],
   "source": [
    "set3_U_set4_U_set5 = set3.union(set4, set5) #Aggregate set4, set5 and set6\n",
    "set1_U_set2 = set1.union(set2) #Aggregate set1 and set2\n",
    "\n",
    "if set3_U_set4_U_set5 == set1_U_set2: #Check if the aggregated values are equal\n",
    "    print(True)\n",
    "else:\n",
    "    print(False)"
   ]
  },
  {
   "cell_type": "markdown",
   "metadata": {},
   "source": [
    "#### Using the `pop` method, remove the first element from `set1`."
   ]
  },
  {
   "cell_type": "code",
   "execution_count": 323,
   "metadata": {},
   "outputs": [
    {
     "name": "stdout",
     "output_type": "stream",
     "text": [
      "0 was removed from set1\n"
     ]
    }
   ],
   "source": [
    "print(set1.pop(), \"was removed from set1\") #Pop and print first element from set1"
   ]
  },
  {
   "cell_type": "markdown",
   "metadata": {},
   "source": [
    "#### Remove every element in the following list from `set1` if they are present in the set. Print the remaining elements.\n",
    "\n",
    "```\n",
    "list_to_remove = [1, 9, 11, 19, 21, 29, 31, 39, 41, 49, 51, 59, 61, 69, 71, 79, 81, 89, 91, 99]\n",
    "```"
   ]
  },
  {
   "cell_type": "code",
   "execution_count": 324,
   "metadata": {},
   "outputs": [
    {
     "name": "stdout",
     "output_type": "stream",
     "text": [
      "set1 = {2, 3, 4, 5, 6, 8, 10, 12, 13, 14, 15, 17, 18, 20, 22, 24, 30, 34, 36, 37, 38, 42, 43, 44, 45, 46, 47, 48, 50, 52, 53, 54, 55, 57, 58, 60, 62, 63, 64, 65, 66, 67, 68, 70, 72, 74, 75, 77, 80, 82, 84, 85, 86, 87, 88, 92, 93, 94, 96, 97, 98}\n"
     ]
    }
   ],
   "source": [
    "list_to_remove = [1, 9, 11, 19, 21, 29, 31, 39, 41, 49, 51, 59, 61, 69, 71, 79, 81, 89, 91, 99]\n",
    "\n",
    "[set1.remove(number) for number in list_to_remove if number in set1] #Check for numbers in both sets and remove them from set1\n",
    "\n",
    "print(\"set1 =\", set1)"
   ]
  }
 ],
 "metadata": {
  "kernelspec": {
   "display_name": "Python 3",
   "language": "python",
   "name": "python3"
  },
  "language_info": {
   "codemirror_mode": {
    "name": "ipython",
    "version": 3
   },
   "file_extension": ".py",
   "mimetype": "text/x-python",
   "name": "python",
   "nbconvert_exporter": "python",
   "pygments_lexer": "ipython3",
   "version": "3.7.3"
  }
 },
 "nbformat": 4,
 "nbformat_minor": 2
}
